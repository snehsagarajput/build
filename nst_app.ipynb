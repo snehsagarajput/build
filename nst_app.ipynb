{
  "nbformat": 4,
  "nbformat_minor": 0,
  "metadata": {
    "colab": {
      "name": "nst-app",
      "provenance": [],
      "collapsed_sections": [],
      "authorship_tag": "ABX9TyM6Gc5DuYXGXxZwaepefbNg",
      "include_colab_link": true
    },
    "kernelspec": {
      "name": "python3",
      "display_name": "Python 3"
    },
    "accelerator": "GPU"
  },
  "cells": [
    {
      "cell_type": "markdown",
      "metadata": {
        "id": "view-in-github",
        "colab_type": "text"
      },
      "source": [
        "<a href=\"https://colab.research.google.com/github/snehsagarajput/nst-app/blob/master/nst_app.ipynb\" target=\"_parent\"><img src=\"https://colab.research.google.com/assets/colab-badge.svg\" alt=\"Open In Colab\"/></a>"
      ]
    },
    {
      "cell_type": "markdown",
      "metadata": {
        "id": "Ne5oRMPXBcMk"
      },
      "source": [
        "## `Click On The Run/Play Button To Connect To Runtime And Run The Cell Below`\n",
        "\n",
        "<img src=\"https://i.ibb.co/0qQNZkW/prev-1.jpg\" alt=\"Instruction-Image\" border=\"4\" height=200 width=500 align=\"center\">"
      ]
    },
    {
      "cell_type": "code",
      "metadata": {
        "id": "bHNilKQucnpx",
        "cellView": "form"
      },
      "source": [
        "#@title Initial Setup and Starting WebApp \n",
        "#@markdown >Intial Setup\n",
        "#@markdown >>* Clone Repo \n",
        "#@markdown >>* Install Required Packages\n",
        "\n",
        "#@markdown >Starting WebApp\n",
        "#@markdown >>* WebApp Deployment \n",
        "Debug = False #@param {type:\"boolean\"}\n",
        "\n",
        "import os\n",
        "RUN_APP = True\n",
        "\n",
        "try:\n",
        "  if not os.path.isdir(\"/content/nst-app\"):\n",
        "    !git clone https://github.com/snehsagarajput/nst-app\n",
        "  else:\n",
        "    print(\"\\nRepo already Cloned/Present\\n\")\n",
        "except:\n",
        "  RUN_APP = False\n",
        "  print(\"\\nCan't clone the repo \\nContact : snehsagarajput@gmail.com\")\n",
        "\n",
        "try:\n",
        "  print(\"\\nInstalling Required Packages : \",end=\"\")\n",
        "  !python /content/nst-app/environment_setup.py\n",
        "  !pip install -r /content/create_req_file.txt\n",
        "  print(\"Done\\n\")\n",
        "except:\n",
        "  print(\"\\nSome Packages Might Be Missing \\nContact : snehsagarajput@gmail.com\")\n",
        "\n",
        "try:\n",
        "  if RUN_APP:\n",
        "    os.environ['TF_CPP_MIN_LOG_LEVEL'] = '2' # tendorflow logs off\n",
        "    os.environ['WERKZEUG_RUN_MAIN'] = 'true' # flask logs off\n",
        "    !python /content/nst-app/main.py {Debug} #flask-app\n",
        "except:\n",
        "  print(\"\\nFailed Setting Up Server\\nTry Again\\n   OR\\nContact : snehsagarajput@gmail.com\")"
      ],
      "execution_count": null,
      "outputs": []
    }
  ]
}
