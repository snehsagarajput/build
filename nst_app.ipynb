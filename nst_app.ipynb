{
  "nbformat": 4,
  "nbformat_minor": 0,
  "metadata": {
    "colab": {
      "name": "nst-app",
      "provenance": [],
      "collapsed_sections": [],
      "authorship_tag": "ABX9TyM6Gc5DuYXGXxZwaepefbNg",
      "include_colab_link": true
    },
    "kernelspec": {
      "name": "python3",
      "display_name": "Python 3"
    },
    "accelerator": "GPU"
  },
  "cells": [
    {
      "cell_type": "markdown",
      "metadata": {
        "id": "view-in-github",
        "colab_type": "text"
      },
      "source": [
        "<a href=\"https://colab.research.google.com/github/snehsagarajput/nst-app/blob/master/nst_app.ipynb\" target=\"_parent\"><img src=\"https://colab.research.google.com/assets/colab-badge.svg\" alt=\"Open In Colab\"/></a>"
      ]
    },
    {
      "cell_type": "markdown",
      "metadata": {
        "id": "Ne5oRMPXBcMk"
      },
      "source": [
        "## `Click On The Run/Play Button To Connect To Runtime And Run The Cell Below`\n",
        "\n",
        "<img src=\"https://i.ibb.co/0qQNZkW/prev-1.jpg\" alt=\"Instruction-Image\" border=\"4\" height=200 width=500 align=\"center\">"
      ]
    },
    {
      "cell_type": "code",
      "metadata": {
        "id": "bHNilKQucnpx",
        "cellView": "form",
        "outputId": "e6009ed9-a7b5-4968-9567-ab67cd47926b",
        "colab": {
          "base_uri": "https://localhost:8080/",
          "height": 322
        }
      },
      "source": [
        "#@title Initial Setup and Starting WebApp \n",
        "#@markdown >Intial Setup\n",
        "#@markdown >>* Clone Repo \n",
        "#@markdown >>* Install Required Packages\n",
        "\n",
        "#@markdown >Starting WebApp\n",
        "#@markdown >>* WebApp Deployment \n",
        "Debug = False #@param {type:\"boolean\"}\n",
        "\n",
        "import os\n",
        "RUN_APP = True\n",
        "\n",
        "try:\n",
        "  if not os.path.isdir(\"/content/nst-app\"):\n",
        "    !git clone https://github.com/snehsagarajput/nst-app\n",
        "  else:\n",
        "    print(\"\\nRepo already Cloned/Present\\n\")\n",
        "except:\n",
        "  RUN_APP = False\n",
        "  print(\"\\nCan't clone the repo \\nContact : snehsagarajput@gmail.com\")\n",
        "\n",
        "try:\n",
        "  print(\"\\nInstalling Required Packages : \",end=\"\")\n",
        "  !python /content/nst-app/environment_setup.py\n",
        "  !pip install -r /content/create_req_file.txt\n",
        "  print(\"Done\\n\")\n",
        "except:\n",
        "  print(\"\\nSome Packages Might Be Missing \\nContact : snehsagarajput@gmail.com\")\n",
        "\n",
        "try:\n",
        "  if RUN_APP:\n",
        "    print(\"\\nStarting WebApp :) \\n\")\n",
        "    os.environ['TF_CPP_MIN_LOG_LEVEL'] = '2' # tendorflow logs off\n",
        "    os.environ['WERKZEUG_RUN_MAIN'] = 'true' # flask logs off\n",
        "    !python /content/nst-app/main.py {Debug} #flask-app\n",
        "except:\n",
        "  print(\"\\nFailed Setting Up Server\\nTry Again\\n   OR\\nContact : snehsagarajput@gmail.com\")"
      ],
      "execution_count": 1,
      "outputs": [
        {
          "output_type": "stream",
          "text": [
            "Cloning into 'nst-app'...\n",
            "remote: Enumerating objects: 286, done.\u001b[K\n",
            "remote: Counting objects: 100% (286/286), done.\u001b[K\n",
            "remote: Compressing objects: 100% (218/218), done.\u001b[K\n",
            "remote: Total 286 (delta 151), reused 184 (delta 64), pack-reused 0\u001b[K\n",
            "Receiving objects: 100% (286/286), 5.62 MiB | 4.97 MiB/s, done.\n",
            "Resolving deltas: 100% (151/151), done.\n",
            "\n",
            "Installing Required Packages : Done\n",
            "\n",
            "\n",
            "Starting WebApp :) \n",
            "\n",
            " *\u001b[92m Running on http://bfc9a87022c2.ngrok.io \u001b[0m\n",
            "\u001b[1m Click the above BLUE URL to open webpage :) \u001b[0m\n",
            "2020-10-17 15:17:17.112364: E tensorflow/stream_executor/dnn.cc:616] CUDNN_STATUS_EXECUTION_FAILED\n",
            "in tensorflow/stream_executor/cuda/cuda_dnn.cc(3298): 'cudnnConvolutionForward( cudnn.handle(), alpha, input_nd.handle(), input_data.opaque(), filter_nd.handle(), filter_data.opaque(), conv.handle(), ToConvForwardAlgo(algorithm_desc), scratch_memory.opaque(), scratch_memory.size(), beta, output_nd.handle(), output_data.opaque())'\n"
          ],
          "name": "stdout"
        }
      ]
    }
  ]
}